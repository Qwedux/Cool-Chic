{
 "cells": [
  {
   "cell_type": "code",
   "execution_count": 25,
   "id": "3699532a",
   "metadata": {},
   "outputs": [
    {
     "name": "stdout",
     "output_type": "stream",
     "text": [
      "loss: 2.7492191791534424\n",
      "rate_nn: 0.003932857420295477\n",
      "rate_latent: 0.1869508922100067\n",
      "rate_img: 2.558335781097412\n"
     ]
    }
   ],
   "source": [
    "import os\n",
    "import re\n",
    "import numpy as np\n",
    "results_dir = \"../logs/results/\"\n",
    "files = os.listdir(results_dir)\n",
    "# print(files)\n",
    "\n",
    "file_contents = []\n",
    "for file in files:\n",
    "    with open(os.path.join(results_dir, file), 'r') as f:\n",
    "        line = f.read().splitlines()[-1]\n",
    "        if line.startswith(\"Final results after quantization: Loss:\"):\n",
    "            file_contents.append(line)\n",
    "\n",
    "# print(*file_contents, sep=\"\\n\")\n",
    "rates = {\n",
    "    \"loss\": [],\n",
    "    \"rate_nn\": [],\n",
    "    \"rate_latent\": [],\n",
    "    \"rate_img\": []\n",
    "}\n",
    "def remove_alpha(line):\n",
    "    return re.sub(r\"[a-zA-Z :]\", \"\", line)\n",
    "\n",
    "for line in file_contents:\n",
    "    line = remove_alpha(line)\n",
    "    parts = line.split(\",\")\n",
    "    rates[\"loss\"].append(parts[0])\n",
    "    rates[\"rate_nn\"].append(parts[1])\n",
    "    rates[\"rate_latent\"].append(parts[2])\n",
    "    rates[\"rate_img\"].append(parts[3])\n",
    "    # print(parts)\n",
    "\n",
    "for key in rates:\n",
    "    rates[key] = np.array(rates[key], dtype=np.float32)\n",
    "\n",
    "# print(rates)\n",
    "for key, value in rates.items():\n",
    "    print(f\"{key}: {np.mean(value)}\")"
   ]
  }
 ],
 "metadata": {
  "kernelspec": {
   "display_name": "cool_chic_venv",
   "language": "python",
   "name": "python3"
  },
  "language_info": {
   "codemirror_mode": {
    "name": "ipython",
    "version": 3
   },
   "file_extension": ".py",
   "mimetype": "text/x-python",
   "name": "python",
   "nbconvert_exporter": "python",
   "pygments_lexer": "ipython3",
   "version": "3.10.18"
  }
 },
 "nbformat": 4,
 "nbformat_minor": 5
}
