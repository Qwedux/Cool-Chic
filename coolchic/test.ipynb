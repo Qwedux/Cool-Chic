{
 "cells": [
  {
   "cell_type": "code",
   "execution_count": 8,
   "id": "39e32bdf",
   "metadata": {},
   "outputs": [],
   "source": [
    "import os\n",
    "import sys\n",
    "import torch\n",
    "\n",
    "sys.path.append(os.getcwd())\n",
    "from lossless.component.coolchic import CoolChicEncoderParameter\n",
    "from lossless.component.coolchic import CoolChicEncoder\n",
    "from lossless.util.config import (\n",
    "    args,\n",
    ")\n",
    "from lossless.util.parsecli import (\n",
    "    change_n_out_synth,\n",
    "    get_coolchic_param_from_args,\n",
    ")\n",
    "from lossless.nnquant.quantizemodel import quantize_model\n",
    "\n",
    "\n",
    "encoder_param = CoolChicEncoderParameter(\n",
    "    **get_coolchic_param_from_args(args, \"residue\")\n",
    ")\n",
    "encoder_param.set_image_size((512, 768))\n",
    "encoder_param.layers_synthesis = change_n_out_synth(\n",
    "    encoder_param.layers_synthesis, args[\"output_dim_size\"]\n",
    ")\n",
    "\n",
    "coolchic = CoolChicEncoder(param=encoder_param)\n",
    "coolchic.to_device(\"cuda:0\")"
   ]
  },
  {
   "cell_type": "code",
   "execution_count": 9,
   "id": "649e71b0",
   "metadata": {},
   "outputs": [
    {
     "name": "stdout",
     "output_type": "stream",
     "text": [
      "3891.5703125\n",
      "| module                            | #parameters or shape   | #flops     |\n",
      "|:----------------------------------|:-----------------------|:-----------|\n",
      "| model                             | 0.528M                 | 1.53G      |\n",
      "|  latent_grids                     |  0.524M                |            |\n",
      "|   latent_grids.0                  |   (1, 1, 512, 768)     |            |\n",
      "|   latent_grids.1                  |   (1, 1, 256, 384)     |            |\n",
      "|   latent_grids.2                  |   (1, 1, 128, 192)     |            |\n",
      "|   latent_grids.3                  |   (1, 1, 64, 96)       |            |\n",
      "|   latent_grids.4                  |   (1, 1, 32, 48)       |            |\n",
      "|   latent_grids.5                  |   (1, 1, 16, 24)       |            |\n",
      "|   latent_grids.6                  |   (1, 1, 8, 12)        |            |\n",
      "|  synthesis.layers                 |  2.301K                |  0.875G    |\n",
      "|   synthesis.layers.0              |   0.384K               |   0.132G   |\n",
      "|    synthesis.layers.0.weight      |    (48, 7, 1, 1)       |            |\n",
      "|    synthesis.layers.0.bias        |    (48,)               |            |\n",
      "|   synthesis.layers.2              |   0.441K               |   0.17G    |\n",
      "|    synthesis.layers.2.weight      |    (9, 48, 1, 1)       |            |\n",
      "|    synthesis.layers.2.bias        |    (9,)                |            |\n",
      "|   synthesis.layers.4              |   0.738K               |   0.287G   |\n",
      "|    synthesis.layers.4.weight      |    (9, 9, 3, 3)        |            |\n",
      "|    synthesis.layers.4.bias        |    (9,)                |            |\n",
      "|   synthesis.layers.6              |   0.738K               |   0.287G   |\n",
      "|    synthesis.layers.6.weight      |    (9, 9, 3, 3)        |            |\n",
      "|    synthesis.layers.6.bias        |    (9,)                |            |\n",
      "|  upsampling                       |  60                    |  25.822M   |\n",
      "|   upsampling.conv_transpose2ds    |   30                   |   18.483M  |\n",
      "|    upsampling.conv_transpose2ds.0 |    5                   |    4.352K  |\n",
      "|    upsampling.conv_transpose2ds.1 |    5                   |    26.624K |\n",
      "|    upsampling.conv_transpose2ds.2 |    5                   |    0.135M  |\n",
      "|    upsampling.conv_transpose2ds.3 |    5                   |    0.655M  |\n",
      "|    upsampling.conv_transpose2ds.4 |    5                   |    3.113M  |\n",
      "|    upsampling.conv_transpose2ds.5 |    5                   |    14.549M |\n",
      "|   upsampling.conv2ds              |   30                   |   7.338M   |\n",
      "|    upsampling.conv2ds.0           |    5                   |    5.376K  |\n",
      "|    upsampling.conv2ds.1           |    5                   |    21.504K |\n",
      "|    upsampling.conv2ds.2           |    5                   |    86.016K |\n",
      "|    upsampling.conv2ds.3           |    5                   |    0.344M  |\n",
      "|    upsampling.conv2ds.4           |    5                   |    1.376M  |\n",
      "|    upsampling.conv2ds.5           |    5                   |    5.505M  |\n",
      "|  arm.mlp                          |  1.25K                 |  0.629G    |\n",
      "|   arm.mlp.0                       |   0.6K                 |   0.302G   |\n",
      "|    arm.mlp.0.weight               |    (24, 24)            |            |\n",
      "|    arm.mlp.0.bias                 |    (24,)               |            |\n",
      "|   arm.mlp.2                       |   0.6K                 |   0.302G   |\n",
      "|    arm.mlp.2.weight               |    (24, 24)            |            |\n",
      "|    arm.mlp.2.bias                 |    (24,)               |            |\n",
      "|   arm.mlp.4                       |   50                   |   25.164M  |\n",
      "|    arm.mlp.4.weight               |    (2, 24)             |            |\n",
      "|    arm.mlp.4.bias                 |    (2,)                |            |\n",
      "\n",
      "----------------------------------\n",
      "Total MAC / decoded pixel: 3891.6\n",
      "----------------------------------\n"
     ]
    }
   ],
   "source": [
    "# print(coolchic.get_flops())\n",
    "# print(coolchic.flops_str())\n",
    "with torch.no_grad():\n",
    "    print(coolchic.get_total_mac_per_pixel())\n",
    "    print(coolchic.str_complexity())"
   ]
  }
 ],
 "metadata": {
  "kernelspec": {
   "display_name": ".venv",
   "language": "python",
   "name": "python3"
  },
  "language_info": {
   "codemirror_mode": {
    "name": "ipython",
    "version": 3
   },
   "file_extension": ".py",
   "mimetype": "text/x-python",
   "name": "python",
   "nbconvert_exporter": "python",
   "pygments_lexer": "ipython3",
   "version": "3.10.12"
  }
 },
 "nbformat": 4,
 "nbformat_minor": 5
}
